{
 "cells": [
  {
   "cell_type": "markdown",
   "metadata": {
    "colab_type": "text",
    "id": "jm6B9mTuqGmf"
   },
   "source": [
    "<div id=\"image\">\n",
    "<img src=\"https://www.imt-atlantique.fr/sites/default/files/logo_mt_0_0.png\" WIDTH=280 HEIGHT=280>\n",
    "</div>\n",
    "<div id=\"subject\">\n",
    "<CENTER>\n",
    "</br>\n",
    "\n",
    "\n",
    "<font size=\"5\"></br> UE Introduction au Machine Learning: Project ML </font></br></div>\n",
    "</CENTER>\n",
    "<CENTER>\n",
    "<font size=\"3\"></br></font></br></div>\n",
    "</CENTER>\n",
    "<CENTER>\n",
    "<span style=\"color:blue\"></span>\n",
    "</CENTER>\n",
    "\n",
    "The objective of the project is to apply a Machine Learning model onto two different datasets:\n",
    "- Banknote Authentication Dataset\n",
    "- Chronic Kidney Disease:\n",
    "\n",
    "Workflow : \n",
    "\n",
    "1. Import the dataset\n",
    "2. Clean the data, perform pre-processing\n",
    "I Replace missing values by average or median values\n",
    "I Center and normalize the data\n",
    "3. Split the dataset\n",
    "I Split between training set and test set\n",
    "I Split the training set for cross-validation\n",
    "4. Train the model (including feature selection)\n",
    "5. Validate the model\n",
    "Objective: collaboratively implement this workflow and apply it to different ML problems/datasets\n"
   ]
  },
  {
   "cell_type": "markdown",
   "metadata": {
    "colab_type": "text",
    "id": "g2Trc7GWqGm4"
   },
   "source": [
    "# Import Data \n",
    "\n"
   ]
  },
  {
   "cell_type": "code",
   "execution_count": 53,
   "metadata": {
    "ExecuteTime": {
     "end_time": "2020-11-28T17:52:04.758116Z",
     "start_time": "2020-11-28T17:52:04.276122Z"
    },
    "colab": {
     "base_uri": "https://localhost:8080/",
     "height": 141
    },
    "colab_type": "code",
    "id": "NCRwh9bOxR0k",
    "outputId": "aa87a609-7df6-458e-d1a3-25c3f84f6354"
   },
   "outputs": [],
   "source": [
    "import numpy as np\n",
    "import scipy.io as sio\n",
    "import scipy as sp\n",
    "import matplotlib.pyplot as plt\n",
    "import pandas as pd\n",
    "from pylab import *"
   ]
  },
  {
   "cell_type": "markdown",
   "metadata": {},
   "source": [
    "Informations sur l'ensemble des données :\n",
    "\n",
    "Les données ont été extraites d'images prises sur des spécimens de billets de banque authentiques et contrefaits. Pour la numérisation, une caméra industrielle habituellement utilisée pour l'inspection des imprimés a été utilisée. Les images finales ont 400x 400 pixels. En raison de l'objectif de l'objet et de la distance de l'objet étudié, des images en échelle de gris avec une résolution d'environ 660 dpi ont été obtenues. L'outil de transformation en ondelettes a été utilisé pour extraire les caractéristiques des images. \n"
   ]
  },
  {
   "cell_type": "code",
   "execution_count": 54,
   "metadata": {},
   "outputs": [
    {
     "data": {
      "text/html": [
       "<div>\n",
       "<style scoped>\n",
       "    .dataframe tbody tr th:only-of-type {\n",
       "        vertical-align: middle;\n",
       "    }\n",
       "\n",
       "    .dataframe tbody tr th {\n",
       "        vertical-align: top;\n",
       "    }\n",
       "\n",
       "    .dataframe thead th {\n",
       "        text-align: right;\n",
       "    }\n",
       "</style>\n",
       "<table border=\"1\" class=\"dataframe\">\n",
       "  <thead>\n",
       "    <tr style=\"text-align: right;\">\n",
       "      <th></th>\n",
       "      <th>Variance of WTI</th>\n",
       "      <th>Skewness of WTI</th>\n",
       "      <th>Curtosis of WTI</th>\n",
       "      <th>Entropy of image</th>\n",
       "      <th>Class</th>\n",
       "    </tr>\n",
       "  </thead>\n",
       "  <tbody>\n",
       "    <tr>\n",
       "      <th>count</th>\n",
       "      <td>1372.000000</td>\n",
       "      <td>1372.000000</td>\n",
       "      <td>1372.000000</td>\n",
       "      <td>1372.000000</td>\n",
       "      <td>1372.000000</td>\n",
       "    </tr>\n",
       "    <tr>\n",
       "      <th>mean</th>\n",
       "      <td>0.433735</td>\n",
       "      <td>1.922353</td>\n",
       "      <td>1.397627</td>\n",
       "      <td>-1.191657</td>\n",
       "      <td>0.444606</td>\n",
       "    </tr>\n",
       "    <tr>\n",
       "      <th>std</th>\n",
       "      <td>2.842763</td>\n",
       "      <td>5.869047</td>\n",
       "      <td>4.310030</td>\n",
       "      <td>2.101013</td>\n",
       "      <td>0.497103</td>\n",
       "    </tr>\n",
       "    <tr>\n",
       "      <th>min</th>\n",
       "      <td>-7.042100</td>\n",
       "      <td>-13.773100</td>\n",
       "      <td>-5.286100</td>\n",
       "      <td>-8.548200</td>\n",
       "      <td>0.000000</td>\n",
       "    </tr>\n",
       "    <tr>\n",
       "      <th>25%</th>\n",
       "      <td>-1.773000</td>\n",
       "      <td>-1.708200</td>\n",
       "      <td>-1.574975</td>\n",
       "      <td>-2.413450</td>\n",
       "      <td>0.000000</td>\n",
       "    </tr>\n",
       "    <tr>\n",
       "      <th>50%</th>\n",
       "      <td>0.496180</td>\n",
       "      <td>2.319650</td>\n",
       "      <td>0.616630</td>\n",
       "      <td>-0.586650</td>\n",
       "      <td>0.000000</td>\n",
       "    </tr>\n",
       "    <tr>\n",
       "      <th>75%</th>\n",
       "      <td>2.821475</td>\n",
       "      <td>6.814625</td>\n",
       "      <td>3.179250</td>\n",
       "      <td>0.394810</td>\n",
       "      <td>1.000000</td>\n",
       "    </tr>\n",
       "    <tr>\n",
       "      <th>max</th>\n",
       "      <td>6.824800</td>\n",
       "      <td>12.951600</td>\n",
       "      <td>17.927400</td>\n",
       "      <td>2.449500</td>\n",
       "      <td>1.000000</td>\n",
       "    </tr>\n",
       "  </tbody>\n",
       "</table>\n",
       "</div>"
      ],
      "text/plain": [
       "       Variance of WTI  Skewness of WTI  Curtosis of WTI  Entropy of image  \\\n",
       "count      1372.000000      1372.000000      1372.000000       1372.000000   \n",
       "mean          0.433735         1.922353         1.397627         -1.191657   \n",
       "std           2.842763         5.869047         4.310030          2.101013   \n",
       "min          -7.042100       -13.773100        -5.286100         -8.548200   \n",
       "25%          -1.773000        -1.708200        -1.574975         -2.413450   \n",
       "50%           0.496180         2.319650         0.616630         -0.586650   \n",
       "75%           2.821475         6.814625         3.179250          0.394810   \n",
       "max           6.824800        12.951600        17.927400          2.449500   \n",
       "\n",
       "             Class  \n",
       "count  1372.000000  \n",
       "mean      0.444606  \n",
       "std       0.497103  \n",
       "min       0.000000  \n",
       "25%       0.000000  \n",
       "50%       0.000000  \n",
       "75%       1.000000  \n",
       "max       1.000000  "
      ]
     },
     "execution_count": 54,
     "metadata": {},
     "output_type": "execute_result"
    }
   ],
   "source": [
    "data = pd.read_csv('./data/data_banknote_authentication.txt', sep=\",\", header=None)\n",
    "data.columns = [\"Variance of WTI\",\"Skewness of WTI\",\"Curtosis of WTI\",\"Entropy of image\",\"Class\"]\n",
    "data.describe()\n",
    "\n",
    "# 1. variance de l'image transformée en ondelettes\n",
    "# 2. asymétrie de l'image transformée en ondelettes\n",
    "# 3. applatissement de l'image transformée en ondelettes \n",
    "# 4. entropie de l'image \n",
    "# 5. classe (nombre entier)  "
   ]
  },
  {
   "cell_type": "code",
   "execution_count": 55,
   "metadata": {},
   "outputs": [
    {
     "data": {
      "text/html": [
       "<div>\n",
       "<style scoped>\n",
       "    .dataframe tbody tr th:only-of-type {\n",
       "        vertical-align: middle;\n",
       "    }\n",
       "\n",
       "    .dataframe tbody tr th {\n",
       "        vertical-align: top;\n",
       "    }\n",
       "\n",
       "    .dataframe thead th {\n",
       "        text-align: right;\n",
       "    }\n",
       "</style>\n",
       "<table border=\"1\" class=\"dataframe\">\n",
       "  <thead>\n",
       "    <tr style=\"text-align: right;\">\n",
       "      <th></th>\n",
       "      <th>id</th>\n",
       "      <th>age</th>\n",
       "      <th>bp</th>\n",
       "      <th>sg</th>\n",
       "      <th>al</th>\n",
       "      <th>su</th>\n",
       "      <th>bgr</th>\n",
       "      <th>bu</th>\n",
       "      <th>sc</th>\n",
       "      <th>sod</th>\n",
       "      <th>pot</th>\n",
       "      <th>hemo</th>\n",
       "    </tr>\n",
       "  </thead>\n",
       "  <tbody>\n",
       "    <tr>\n",
       "      <th>count</th>\n",
       "      <td>400.000000</td>\n",
       "      <td>391.000000</td>\n",
       "      <td>388.000000</td>\n",
       "      <td>353.000000</td>\n",
       "      <td>354.000000</td>\n",
       "      <td>351.000000</td>\n",
       "      <td>356.000000</td>\n",
       "      <td>381.000000</td>\n",
       "      <td>383.000000</td>\n",
       "      <td>313.000000</td>\n",
       "      <td>312.000000</td>\n",
       "      <td>348.000000</td>\n",
       "    </tr>\n",
       "    <tr>\n",
       "      <th>mean</th>\n",
       "      <td>199.500000</td>\n",
       "      <td>51.483376</td>\n",
       "      <td>76.469072</td>\n",
       "      <td>1.017408</td>\n",
       "      <td>1.016949</td>\n",
       "      <td>0.450142</td>\n",
       "      <td>148.036517</td>\n",
       "      <td>57.425722</td>\n",
       "      <td>3.072454</td>\n",
       "      <td>137.528754</td>\n",
       "      <td>4.627244</td>\n",
       "      <td>12.526437</td>\n",
       "    </tr>\n",
       "    <tr>\n",
       "      <th>std</th>\n",
       "      <td>115.614301</td>\n",
       "      <td>17.169714</td>\n",
       "      <td>13.683637</td>\n",
       "      <td>0.005717</td>\n",
       "      <td>1.352679</td>\n",
       "      <td>1.099191</td>\n",
       "      <td>79.281714</td>\n",
       "      <td>50.503006</td>\n",
       "      <td>5.741126</td>\n",
       "      <td>10.408752</td>\n",
       "      <td>3.193904</td>\n",
       "      <td>2.912587</td>\n",
       "    </tr>\n",
       "    <tr>\n",
       "      <th>min</th>\n",
       "      <td>0.000000</td>\n",
       "      <td>2.000000</td>\n",
       "      <td>50.000000</td>\n",
       "      <td>1.005000</td>\n",
       "      <td>0.000000</td>\n",
       "      <td>0.000000</td>\n",
       "      <td>22.000000</td>\n",
       "      <td>1.500000</td>\n",
       "      <td>0.400000</td>\n",
       "      <td>4.500000</td>\n",
       "      <td>2.500000</td>\n",
       "      <td>3.100000</td>\n",
       "    </tr>\n",
       "    <tr>\n",
       "      <th>25%</th>\n",
       "      <td>99.750000</td>\n",
       "      <td>42.000000</td>\n",
       "      <td>70.000000</td>\n",
       "      <td>1.010000</td>\n",
       "      <td>0.000000</td>\n",
       "      <td>0.000000</td>\n",
       "      <td>99.000000</td>\n",
       "      <td>27.000000</td>\n",
       "      <td>0.900000</td>\n",
       "      <td>135.000000</td>\n",
       "      <td>3.800000</td>\n",
       "      <td>10.300000</td>\n",
       "    </tr>\n",
       "    <tr>\n",
       "      <th>50%</th>\n",
       "      <td>199.500000</td>\n",
       "      <td>55.000000</td>\n",
       "      <td>80.000000</td>\n",
       "      <td>1.020000</td>\n",
       "      <td>0.000000</td>\n",
       "      <td>0.000000</td>\n",
       "      <td>121.000000</td>\n",
       "      <td>42.000000</td>\n",
       "      <td>1.300000</td>\n",
       "      <td>138.000000</td>\n",
       "      <td>4.400000</td>\n",
       "      <td>12.650000</td>\n",
       "    </tr>\n",
       "    <tr>\n",
       "      <th>75%</th>\n",
       "      <td>299.250000</td>\n",
       "      <td>64.500000</td>\n",
       "      <td>80.000000</td>\n",
       "      <td>1.020000</td>\n",
       "      <td>2.000000</td>\n",
       "      <td>0.000000</td>\n",
       "      <td>163.000000</td>\n",
       "      <td>66.000000</td>\n",
       "      <td>2.800000</td>\n",
       "      <td>142.000000</td>\n",
       "      <td>4.900000</td>\n",
       "      <td>15.000000</td>\n",
       "    </tr>\n",
       "    <tr>\n",
       "      <th>max</th>\n",
       "      <td>399.000000</td>\n",
       "      <td>90.000000</td>\n",
       "      <td>180.000000</td>\n",
       "      <td>1.025000</td>\n",
       "      <td>5.000000</td>\n",
       "      <td>5.000000</td>\n",
       "      <td>490.000000</td>\n",
       "      <td>391.000000</td>\n",
       "      <td>76.000000</td>\n",
       "      <td>163.000000</td>\n",
       "      <td>47.000000</td>\n",
       "      <td>17.800000</td>\n",
       "    </tr>\n",
       "  </tbody>\n",
       "</table>\n",
       "</div>"
      ],
      "text/plain": [
       "               id         age          bp          sg          al          su  \\\n",
       "count  400.000000  391.000000  388.000000  353.000000  354.000000  351.000000   \n",
       "mean   199.500000   51.483376   76.469072    1.017408    1.016949    0.450142   \n",
       "std    115.614301   17.169714   13.683637    0.005717    1.352679    1.099191   \n",
       "min      0.000000    2.000000   50.000000    1.005000    0.000000    0.000000   \n",
       "25%     99.750000   42.000000   70.000000    1.010000    0.000000    0.000000   \n",
       "50%    199.500000   55.000000   80.000000    1.020000    0.000000    0.000000   \n",
       "75%    299.250000   64.500000   80.000000    1.020000    2.000000    0.000000   \n",
       "max    399.000000   90.000000  180.000000    1.025000    5.000000    5.000000   \n",
       "\n",
       "              bgr          bu          sc         sod         pot        hemo  \n",
       "count  356.000000  381.000000  383.000000  313.000000  312.000000  348.000000  \n",
       "mean   148.036517   57.425722    3.072454  137.528754    4.627244   12.526437  \n",
       "std     79.281714   50.503006    5.741126   10.408752    3.193904    2.912587  \n",
       "min     22.000000    1.500000    0.400000    4.500000    2.500000    3.100000  \n",
       "25%     99.000000   27.000000    0.900000  135.000000    3.800000   10.300000  \n",
       "50%    121.000000   42.000000    1.300000  138.000000    4.400000   12.650000  \n",
       "75%    163.000000   66.000000    2.800000  142.000000    4.900000   15.000000  \n",
       "max    490.000000  391.000000   76.000000  163.000000   47.000000   17.800000  "
      ]
     },
     "execution_count": 55,
     "metadata": {},
     "output_type": "execute_result"
    }
   ],
   "source": [
    "data_disease = pd.read_csv('./data/kidney_disease.csv', sep=\",\", header=0)\n",
    "data_disease.describe()"
   ]
  },
  {
   "cell_type": "markdown",
   "metadata": {
    "colab_type": "text",
    "id": "206-PpLNjEZQ"
   },
   "source": [
    "1) You should first clean the dataset (handle missing values and  categorical values) and especially : \n",
    "- Replace missing values by average or median values\n",
    "- Center and normalize the data"
   ]
  },
  {
   "cell_type": "code",
   "execution_count": 80,
   "metadata": {},
   "outputs": [],
   "source": [
    "def count_NaN(data):\n",
    "    no_NaN_data = data.notna()\n",
    "    countNaN = np.zeros((np.shape(data)[1]))\n",
    "    for k in range(np.shape(data)[1]):\n",
    "        for i in range (np.shape(data)[0]):\n",
    "            if no_NaN_data.iloc[i,k] == False:\n",
    "                countNaN[k] +=1\n",
    "    return countNaN"
   ]
  },
  {
   "cell_type": "code",
   "execution_count": 81,
   "metadata": {},
   "outputs": [],
   "source": [
    "def replace_NaN(data):\n",
    "    no_NaN_data = data\n",
    "    mean_data = np.mean(data)\n",
    "    count_replaced_values = np.zeros((np.shape(data)[1]))\n",
    "    for k in data:\n",
    "        for i in range (len(data[k])):\n",
    "            va_k = no_NaN_data[k]\n",
    "            if va_k[i] == np.NaN:\n",
    "                count_replaced_values[k] += 1\n",
    "                va_k[i] = mean_data[k] #replace with mean\n",
    "    return no_NaN_data, count_replaced_values\n",
    "    "
   ]
  },
  {
   "cell_type": "code",
   "execution_count": 82,
   "metadata": {},
   "outputs": [],
   "source": [
    "#In practice we often ignore the shape of the distribution and just transform the data to center it by removing \n",
    "# the mean value of each feature, then scale it by dividing non-constant features by their standard deviation.\n",
    "\n",
    "def center_and_normalize(data):\n",
    "    center_and_normalize = data\n",
    "    mean_data, std_data = np.mean(data), np.std(data)\n",
    "    types_data = data.dtypes\n",
    "    for k in center_and_normalize:\n",
    "        if types_data[k] == float: #on se souhaite pas centrée réduire les labels\n",
    "            center_and_normalize[k] = (center_and_normalize[k] - mean_data[k])*(1/std_data[k])\n",
    "    return center_and_normalize\n"
   ]
  },
  {
   "cell_type": "code",
   "execution_count": 83,
   "metadata": {},
   "outputs": [],
   "source": [
    "def clean_data(data):\n",
    "    data_na=data.notna() #renvoie une dataframe booléen\n",
    "    data_types=data.dtypes #datatype of each column\n",
    "    # for k in data:\n",
    "    #     for i in range(len(data_na[k])):\n",
    "    #         #Il est possible que certains string aient des \\t ou des \" \", il faut les enlever\n",
    "    #         if type(data[k][i])==str:\n",
    "    #             data.at[i,k]=data[k][i].replace(\" \",\"\")\n",
    "    #             data.at[i,k]=data[k][i].replace(\"\\t\",\"\")\n",
    "    #             #Si un des NaN avait ce genre de caractères alors ils n'étaient pas repérés et comptaient\n",
    "    #             #Pour une valeur: On modifie donc la table data_na \n",
    "    #             if data[k][i]==\"?\":\n",
    "    #                 data_na.at[i,k]=False\n",
    "    for index in data:\n",
    "        if data_types[index]==object:\n",
    "            clear_data_String(data,index,data_na)\n",
    "        else:\n",
    "            if data_types[index]==int:\n",
    "                clear_data_Float_Int(data,index,int)\n",
    "            else:\n",
    "                clear_data_Float_Int(data,index,float)\n",
    "    data = center_and_normalize(data)\n",
    "    replace_by_Int(data)\n",
    "    return data"
   ]
  },
  {
   "cell_type": "code",
   "execution_count": 84,
   "metadata": {},
   "outputs": [],
   "source": [
    "def clear_data_String(data,k,data_na):\n",
    "    list_value={}\n",
    "    data_na=data_na[k]\n",
    "    for value in range(len(data_na)):\n",
    "        if data_na[value]:\n",
    "            if data[k][value] not in list_value:\n",
    "                list_value[data[k][value]]=0\n",
    "            else:\n",
    "                list_value[data[k][value]]+=1\n",
    "    moy,Max=data[k][0],0\n",
    "    for value in list_value:\n",
    "        if list_value[value]>Max:\n",
    "            Max,moy=list_value[value],value\n",
    "    for value in range(len(data)):\n",
    "        if not data_na[value]:\n",
    "            data.at[value,k]=moy"
   ]
  },
  {
   "cell_type": "code",
   "execution_count": 85,
   "metadata": {},
   "outputs": [],
   "source": [
    "def clear_data_Float_Int(data,k,int_or_float):\n",
    "    moy=data[k].mean()\n",
    "    data_na=data[k].isna()\n",
    "    if int_or_float==int:\n",
    "        if moy-floor(moy)<0.5:\n",
    "                moy=int(moy)\n",
    "        else:\n",
    "                moy=int(moy + 1)\n",
    "    for value in range(len(data_na)):\n",
    "        if data_na[value]:\n",
    "            data.at[value,k]=moy"
   ]
  },
  {
   "cell_type": "code",
   "execution_count": 86,
   "metadata": {},
   "outputs": [],
   "source": [
    "def replace_by_Int(data):\n",
    "    data_types=data.dtypes #datatype of each column\n",
    "    for k in data:\n",
    "        if data_types[k]==object:\n",
    "            list_value={}\n",
    "            data_na=data[k].isna()\n",
    "            number=0\n",
    "            for value in range(len(data_na)):\n",
    "                if not data_na[value]:\n",
    "                    if data[k][value] not in list_value:\n",
    "                        list_value[data[k][value]]=number\n",
    "                        number+=1\n",
    "                    data.at[value,k]=list_value[data[k][value]]\n",
    "            data[k] = data[k].astype(int)"
   ]
  },
  {
   "cell_type": "code",
   "execution_count": 89,
   "metadata": {},
   "outputs": [],
   "source": [
    "data_clean = clean_data(data)\n",
    "data_disease_cleaned = clean_data(data_disease)"
   ]
  },
  {
   "cell_type": "markdown",
   "metadata": {},
   "source": [
    "2. Split the dataset : \n",
    "- Split between training set and test set\n",
    "- Split the training set for cross-validation"
   ]
  },
  {
   "cell_type": "code",
   "execution_count": 20,
   "metadata": {},
   "outputs": [],
   "source": [
    "from sklearn.model_selection import train_test_split\n",
    "\n",
    "#Faire aussi cross validation\n",
    "\n",
    "def split_data(data, test_size):\n",
    "    labels = data.iloc[:,-1]\n",
    "    X_train, X_test, y_train, y_test = train_test_split(data, labels, test_size=test_size)\n",
    "    return X_train, X_test, y_train, y_test"
   ]
  },
  {
   "cell_type": "markdown",
   "metadata": {},
   "source": [
    "You may implement feature selection: bruteforce, by looking at correlations, from an ACP (for classiffication)"
   ]
  },
  {
   "cell_type": "code",
   "execution_count": 22,
   "metadata": {},
   "outputs": [],
   "source": [
    "#Assumption to check --> Data are gaussian distributed --> check with Shapiro Test\n",
    "\n",
    "#En statistique, le test de Shapiro–Wilk teste l'hypothèse nulle selon laquelle un échantillon x 1 , … , x n \n",
    "#est issu d'une population normalement distribuée. \n",
    "\n",
    "from scipy.stats import shapiro\n",
    "from sklearn.decomposition import PCA\n",
    "\n",
    "\n",
    "def shapiro_test(data):\n",
    "    n = np.shape(data)[1]\n",
    "    p_values = np.zeros((n))\n",
    "    for k in range(n):\n",
    "        data_k = data.iloc[:,k]\n",
    "        shapiro_test = shapiro(data_k)\n",
    "        p_values[k] = shapiro_test.pvalue\n",
    "    return p_values\n",
    "\n",
    "shapiro_test(clean_data)\n",
    "\n",
    "\n",
    "def pca(data):\n",
    "    pca = PCA.fit(data)\n",
    "    data_reduc = pca.transform(data)\n",
    "    return data_reduc\n",
    "\n",
    "# pca(clean_data)\n",
    "    "
   ]
  },
  {
   "cell_type": "markdown",
   "metadata": {},
   "source": [
    "# SVM Method"
   ]
  },
  {
   "cell_type": "markdown",
   "metadata": {},
   "source": [
    "Cross Validation"
   ]
  },
  {
   "cell_type": "code",
   "execution_count": 23,
   "metadata": {},
   "outputs": [],
   "source": [
    "from sklearn import svm\n",
    "from sklearn import datasets\n",
    "from sklearn.model_selection import train_test_split"
   ]
  },
  {
   "cell_type": "code",
   "execution_count": 24,
   "metadata": {},
   "outputs": [
    {
     "data": {
      "text/plain": [
       "dtype('float64')"
      ]
     },
     "execution_count": 24,
     "metadata": {},
     "output_type": "execute_result"
    }
   ],
   "source": [
    "clean_data\n",
    "# clean_data[:,1]\n",
    "\n",
    "vari, skew, curt, entr = clean_data[\"Variance of WTI\"].to_numpy(),clean_data[\"Skewness of WTI\"].to_numpy(),clean_data[\"Curtosis of WTI\"].to_numpy(),clean_data[\"Entropy of image\"].to_numpy()\n",
    "# X = np.hstack((clean_data[\"Variance of WTI\"],clean_data[\"Skewness of WTI\"],clean_data[\"Curtosis of WTI\"],clean_data[\"Entropy of image\"]))\n",
    "# X = np.concatenate((clean_data[\"Variance of WTI\"],clean_data[\"Skewness of WTI\"],clean_data[\"Curtosis of WTI\"],clean_data[\"Entropy of image\"]), axis=0)\n",
    "X = np.vstack((vari.T, skew.T, curt.T, entr.T)).T\n",
    "y = clean_data[\"Class\"].to_numpy() #pls use clean_data.iloc[:,-1]\n",
    "# clean_data\n",
    "X.dtype"
   ]
  },
  {
   "cell_type": "code",
   "execution_count": 25,
   "metadata": {},
   "outputs": [],
   "source": [
    "from sklearn.metrics import precision_score, recall_score\n",
    "from sklearn.model_selection import KFold\n",
    "\n",
    "def precision_recall_multilabels(y_true, y_pred, labels):\n",
    "    recalls = []\n",
    "    precisions = []\n",
    "    for label in labels:\n",
    "\n",
    "        pos_true = y_true == label\n",
    "        pos_pred = y_pred == label\n",
    "\n",
    "        # By hand\n",
    "        true_pos = pos_pred & pos_true\n",
    "        recalls.append(np.sum(true_pos) / np.sum(pos_true))\n",
    "        precisions.append(np.sum(true_pos) / np.sum(pos_pred))\n",
    "\n",
    "        # With sklearn\n",
    "        # precisions.append(precision_score(pos_test, pos_pred))\n",
    "        # recalls.append(recall_score(pos_test, pos_pred))\n",
    "\n",
    "    return precisions, recalls\n",
    "\n",
    "\n",
    "def kfold_precisions_recalls(X, y, labels, clf, kf: KFold):\n",
    "    \"\"\"Returns the history of precisions and recalls through K-fold training\n",
    "\n",
    "    Parameters\n",
    "    ----------\n",
    "    X, y : data\n",
    "    labels : list[int]\n",
    "    clf : classifier\n",
    "    kf : KFold instance\n",
    "\n",
    "    Returns\n",
    "    -------\n",
    "    precisions : list[list], shape (num_folds, len(labels))\n",
    "    recalls : list[list], shape (num_folds, len(labels))\n",
    "    \"\"\"\n",
    "    precisions, recalls = [], []\n",
    "    for train_index, test_index in kf.split(X):\n",
    "        X_train, X_test = X[train_index], X[test_index]\n",
    "        y_train, y_test = y[train_index], y[test_index]\n",
    "\n",
    "        clf.fit(X_train, y_train)\n",
    "        y_pred = clf.predict(X_test)\n",
    "\n",
    "        precisions_, recalls_ = precision_recall_multilabels(y_test, y_pred, labels)\n",
    "\n",
    "        precisions.append(precisions_)\n",
    "        recalls.append(recalls_)\n",
    "\n",
    "    return precisions, recalls"
   ]
  },
  {
   "cell_type": "code",
   "execution_count": 26,
   "metadata": {},
   "outputs": [],
   "source": [
    "# Once you have filled the `clfs_results` dictionnary below\n",
    "# call `kfold_multimodels_report(clfs_results)`\n",
    "\n",
    "\n",
    "def kfold_multimodels_report(clfs_results):\n",
    "    \"\"\"\n",
    "    Prints a report for the results of experiments on multiple models,\n",
    "    each one evaluated using k-fold cross-validation.\n",
    "\n",
    "    The results of the experiments should be given as the 'clfs_stats'\n",
    "    argument, with the following structure:\n",
    "\n",
    "    {\n",
    "        \"clf_name1\": {\"metric1\": list[list], \"metric2\": list[list], ...},\n",
    "        \"clf_name2\": {\"metric1\": list[list], \"metric2\": list[list], ...},\n",
    "        ...\n",
    "    }\n",
    "\n",
    "    with each list[list] being of shape (num_folds, num_classes).\n",
    "    \"\"\"\n",
    "    clfs_stats = kfold_summarize_results(clfs_results)\n",
    "    with np.printoptions(precision=2, floatmode=\"fixed\"):\n",
    "        for clf_name, clf_stats in clfs_stats.items():\n",
    "            print(f\"{clf_name:<15}\")\n",
    "            for metric_name, stats in clf_stats.items():\n",
    "                print(f\"{metric_name:>15}\")\n",
    "                for stat_name, data in stats.items():\n",
    "                    print(f\"{stat_name:>20}: {data}\")\n",
    "\n",
    "\n",
    "def kfold_summarize_results(clfs_results):\n",
    "    \"\"\"Computes stats on results of multi-models k-folds experiments.\n",
    "\n",
    "    Takes:\n",
    "\n",
    "    {\n",
    "        \"clf_name1\": {\"metric1\": list[list], \"metric2\": list[list], ...},\n",
    "        \"clf_name2\": {\"metric1\": list[list], \"metric2\": list[list], ...},\n",
    "        ...\n",
    "    }\n",
    "\n",
    "    Returns:\n",
    "\n",
    "    {\n",
    "        \"clf_name1\": {\"metric1\": {\"mean\": value, \"std\": value ...}, ...},\n",
    "        ...\n",
    "    }\n",
    "    \"\"\"\n",
    "    clfs_stats = {clf_name: {} for clf_name in clfs_results}\n",
    "    for clf_name, clf_results in clfs_results.items():\n",
    "        for metric, data in clf_results.items():\n",
    "            clfs_stats[clf_name][metric] = {\n",
    "                \"mean\": np.mean(data, axis=0),\n",
    "                \"std\": np.std(data, axis=0),\n",
    "            }\n",
    "    return clfs_stats"
   ]
  },
  {
   "cell_type": "code",
   "execution_count": 27,
   "metadata": {},
   "outputs": [
    {
     "name": "stdout",
     "output_type": "stream",
     "text": [
      "precisions = [1.0, 0.9706390328151986]\n",
      "   recalls = [0.976056338028169, 1.0]\n"
     ]
    }
   ],
   "source": [
    "classes_labels = [0, 1]\n",
    "\n",
    "clf = svm.SVC()\n",
    "train_size = 100\n",
    "X_train, X_test, y_train, y_test = train_test_split(\n",
    "    X, y, train_size=train_size, shuffle=True\n",
    ")\n",
    "clf.fit(X_train, y_train)\n",
    "y_pred = clf.predict(X_test)\n",
    "precisions, recalls = precision_recall_multilabels(y_test, y_pred, classes_labels)\n",
    "\n",
    "print(f\"{precisions = }\")\n",
    "print(f\"{   recalls = }\")"
   ]
  },
  {
   "cell_type": "code",
   "execution_count": 28,
   "metadata": {},
   "outputs": [
    {
     "data": {
      "text/plain": [
       "array([0, 1], dtype=int64)"
      ]
     },
     "execution_count": 28,
     "metadata": {},
     "output_type": "execute_result"
    }
   ],
   "source": [
    "np.unique(y)"
   ]
  },
  {
   "cell_type": "code",
   "execution_count": 29,
   "metadata": {},
   "outputs": [],
   "source": [
    "num_classes = len(np.unique(y))\n",
    "classes_labels = [0, 1]\n",
    "\n",
    "\n",
    "clfs = {\n",
    "    \"linear\": svm.SVC(kernel=\"linear\", C=1.0),\n",
    "    \"poly2\": svm.SVC(kernel=\"poly\", C=1.0, degree=2, gamma=\"scale\", coef0=0.0),\n",
    "    # \"poly3\": svm.SVC(kernel=\"poly\", C=1.0, degree=3, gamma=\"scale\", coef0=0.0),\n",
    "    # \"poly4\": svm.SVC(kernel=\"poly\", C=1.0, degree=4, gamma=\"scale\", coef0=0.0),\n",
    "    \"rbf\": svm.SVC(kernel=\"rbf\", C=1.0, gamma=\"scale\"),\n",
    "    # \"sigmoid\": svm.SVC(kernel=\"sigmoid\", C=1.0, gamma=\"scale\", coef0=0.0),\n",
    "}\n",
    "\n",
    "clfs_results = {clf_name: {\"precisions\": None, \"recalls\": None} for clf_name in clfs}"
   ]
  },
  {
   "cell_type": "code",
   "execution_count": 30,
   "metadata": {},
   "outputs": [
    {
     "name": "stdout",
     "output_type": "stream",
     "text": [
      "linear         \n",
      "     precisions\n",
      "                mean: [1.00 0.97]\n",
      "                 std: [0.00 0.02]\n",
      "        recalls\n",
      "                mean: [0.97 1.00]\n",
      "                 std: [0.02 0.01]\n",
      "poly2          \n",
      "     precisions\n",
      "                mean: [0.75 0.81]\n",
      "                 std: [0.04 0.06]\n",
      "        recalls\n",
      "                mean: [0.88 0.63]\n",
      "                 std: [0.03 0.06]\n",
      "rbf            \n",
      "     precisions\n",
      "                mean: [1.00 1.00]\n",
      "                 std: [0.00 0.00]\n",
      "        recalls\n",
      "                mean: [1.00 1.00]\n",
      "                 std: [0.00 0.00]\n"
     ]
    }
   ],
   "source": [
    "kf = KFold(n_splits=10, shuffle=True, random_state=34)\n",
    "\n",
    "for clf_name, clf in clfs.items():\n",
    "    precisions, recalls = kfold_precisions_recalls(X, y, classes_labels, clf, kf)\n",
    "\n",
    "    clfs_results[clf_name][\"precisions\"] = precisions\n",
    "    clfs_results[clf_name][\"recalls\"] = recalls\n",
    "\n",
    "kfold_multimodels_report(clfs_results)"
   ]
  },
  {
   "cell_type": "code",
   "execution_count": 31,
   "metadata": {},
   "outputs": [
    {
     "data": {
      "text/plain": [
       "Text(0.5, 1.0, 'Prediction')"
      ]
     },
     "execution_count": 31,
     "metadata": {},
     "output_type": "execute_result"
    },
    {
     "data": {
      "image/png": "[encoded data removed]",
      "text/plain": [
       "<Figure size 432x288 with 2 Axes>"
      ]
     },
     "metadata": {
      "needs_background": "light"
     },
     "output_type": "display_data"
    },
    {
     "data": {
      "image/png": "[encoded data removed]",
      "text/plain": [
       "<Figure size 432x288 with 2 Axes>"
      ]
     },
     "metadata": {
      "needs_background": "light"
     },
     "output_type": "display_data"
    }
   ],
   "source": [
    "# Plot variables\n",
    "x1,x2, x3, x4 = vari, skew, curt, entr\n",
    "# X1, X2, X3, X4 = meshgrid(linspace(x1.min(), x1.max(), 10), linspace(x2.min(), x2.max(), 10), linspace(x3.min(), x3.max(), 10), linspace(x4.min(), x4.max(), 10))\n",
    "# X_rav = vstack((ravel(X1), ravel(X2), ravel(X3), ravel(X4))).T\n",
    "X1, X2 = linspace(x1.min(), x1.max(), 10), linspace(x2.min(), x2.max(), 10)\n",
    "X_rav = vstack((linspace(x1.min(), x1.max(), 10), linspace(x2.min(), x2.max(), 10), linspace(x3.min(), x3.max(), 10), linspace(x4.min(), x4.max(),10))).T\n",
    "# fig = plt.figure()\n",
    "# gs = fig.add_gridspec(3,2)\n",
    "# ax1,ax2,ax3,ax4,ax5 = fig.add_subplot(gs[0, :]), fig.add_subplot(gs[1, 0]), fig.add_subplot(gs[1, 1]), fig.add_subplot(gs[2, 0]), fig.add_subplot(gs[2, 1])\n",
    "# axs=[ax2,ax3,ax4,ax5]\n",
    "# depths=[1,2,3,4]\n",
    "\n",
    "fig, (ax1,ax2) = plt.subplots(1,2)\n",
    "y_pred = clf.predict(X)\n",
    "\n",
    "# Plot Ground Truth\n",
    "ax1.scatter(x1[y==0], x2[y==0], c='b')\n",
    "ax1.scatter(x1[y==1], x2[y==1], c='r')\n",
    "# plt.contourf(X1, X2, Y, cmap='bwr', alpha=0.5)\n",
    "ax1.legend(['y = 0', 'y = 1'], prop={'size': 10})\n",
    "ax1.set_xlabel(\"$x_1$\", fontsize=10)\n",
    "ax1.set_ylabel(\"$x_2$\", fontsize=10)\n",
    "ax1.set_title('Ground Truth', size=10)\n",
    "ax2.scatter(x1[y_pred==0], x2[y_pred==0], c='b')\n",
    "ax2.scatter(x1[y_pred==1], x2[y_pred==1], c='r')\n",
    "# plt.contourf(X1, X2, clf.predict(X_rav), cmap='bwr', alpha=0.5)\n",
    "ax2.legend(['y = 0', 'y = 1'], prop={'size': 10})\n",
    "ax2.set_xlabel(\"$x_1$\", fontsize=10)\n",
    "ax2.set_ylabel(\"$x_2$\", fontsize=10)\n",
    "ax2.set_title('Prediction', size=10)\n",
    "\n",
    "fig, (ax1,ax2) = plt.subplots(1,2)\n",
    "y_pred = clf.predict(X)\n",
    "\n",
    "# Plot Ground Truth\n",
    "ax1.scatter(x3[y==0], x4[y==0], c='b')\n",
    "ax1.scatter(x3[y==1], x4[y==1], c='r')\n",
    "# plt.contourf(X1, X2, Y, cmap='bwr', alpha=0.5)\n",
    "ax1.legend(['y = 0', 'y = 1'], prop={'size': 10})\n",
    "ax1.set_xlabel(\"$x_1$\", fontsize=10)\n",
    "ax1.set_ylabel(\"$x_2$\", fontsize=10)\n",
    "ax1.set_title('Ground Truth', size=10)\n",
    "ax2.scatter(x3[y_pred==0], x4[y_pred==0], c='b')\n",
    "ax2.scatter(x3[y_pred==1], x4[y_pred==1], c='r')\n",
    "# plt.contourf(X1, X2, clf.predict(X_rav), cmap='bwr', alpha=0.5)\n",
    "ax2.legend(['y = 0', 'y = 1'], prop={'size': 10})\n",
    "ax2.set_xlabel(\"$x_1$\", fontsize=10)\n",
    "ax2.set_ylabel(\"$x_2$\", fontsize=10)\n",
    "ax2.set_title('Prediction', size=10)\n"
   ]
  }
 ],
 "metadata": {
  "colab": {
   "collapsed_sections": [],
   "name": "PCA_lab_session_solution.ipynb",
   "provenance": []
  },
  "kernelspec": {
   "display_name": "Python 3",
   "language": "python",
   "name": "python3"
  },
  "language_info": {
   "codemirror_mode": {
    "name": "ipython",
    "version": 3
   },
   "file_extension": ".py",
   "mimetype": "text/x-python",
   "name": "python",
   "nbconvert_exporter": "python",
   "pygments_lexer": "ipython3",
   "version": "3.8.8"
  },
  "latex_envs": {
   "LaTeX_envs_menu_present": true,
   "autoclose": false,
   "autocomplete": true,
   "bibliofile": "biblio.bib",
   "cite_by": "apalike",
   "current_citInitial": 1,
   "eqLabelWithNumbers": true,
   "eqNumInitial": 1,
   "hotkeys": {
    "equation": "Ctrl-E",
    "itemize": "Ctrl-I"
   },
   "labels_anchors": false,
   "latex_user_defs": false,
   "report_style_numbering": false,
   "user_envs_cfg": false
  }
 },
 "nbformat": 4,
 "nbformat_minor": 1
}
