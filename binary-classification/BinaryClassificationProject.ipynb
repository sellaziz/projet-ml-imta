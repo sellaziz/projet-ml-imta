{
 "cells": [
  {
   "cell_type": "markdown",
   "metadata": {
    "colab_type": "text",
    "id": "jm6B9mTuqGmf"
   },
   "source": [
    "<div id=\"image\">\n",
    "<img src=\"https://www.imt-atlantique.fr/sites/default/files/logo_mt_0_0.png\" WIDTH=280 HEIGHT=280>\n",
    "</div>\n",
    "<div id=\"subject\">\n",
    "<CENTER>\n",
    "</br>\n",
    "\n",
    "\n",
    "<font size=\"5\"></br> UE Introduction au Machine Learning: Project ML </font></br></div>\n",
    "</CENTER>\n",
    "<CENTER>\n",
    "<font size=\"3\"></br></font></br></div>\n",
    "</CENTER>\n",
    "<CENTER>\n",
    "<span style=\"color:blue\"></span>\n",
    "</CENTER>\n",
    "\n",
    "**The objective of the project is to apply a Machine Learning model onto two different datasets:**\n",
    "- Banknote Authentication Dataset\n",
    "- Chronic Kidney Disease:\n",
    "\n",
    "\n",
    "Workflow : \n",
    "\n",
    "1. Import the dataset\n",
    "2. Clean the data, perform pre-processing\n",
    "I Replace missing values by average or median values\n",
    "I Center and normalize the data\n",
    "3. Split the dataset\n",
    "I Split between training set and test set\n",
    "I Split the training set for cross-validation\n",
    "4. Train the model (including feature selection)\n",
    "5. Validate the model\n",
    "\n",
    "**Objective:** collaboratively implement this workflow and apply it to different ML problems/datasets"
   ]
  },
  {
   "cell_type": "markdown",
   "metadata": {
    "colab_type": "text",
    "id": "g2Trc7GWqGm4"
   },
   "source": [
    "# Import Data \n",
    "\n"
   ]
  },
  {
   "cell_type": "code",
   "execution_count": 1,
   "metadata": {
    "ExecuteTime": {
     "end_time": "2020-11-28T17:52:04.758116Z",
     "start_time": "2020-11-28T17:52:04.276122Z"
    },
    "colab": {
     "base_uri": "https://localhost:8080/",
     "height": 141
    },
    "colab_type": "code",
    "id": "NCRwh9bOxR0k",
    "outputId": "aa87a609-7df6-458e-d1a3-25c3f84f6354"
   },
   "outputs": [],
   "source": [
    "from library import *\n",
    "import numpy as np\n",
    "import scipy.io as sio\n",
    "import scipy as sp\n",
    "import matplotlib.pyplot as plt\n",
    "import pandas as pd\n",
    "from pylab import *\n",
    "from sklearn import svm\n",
    "from sklearn import datasets\n",
    "from sklearn.model_selection import train_test_split\n",
    "from sklearn.metrics import precision_score, recall_score\n",
    "from sklearn.model_selection import KFold\n",
    "from sklearn.decomposition import PCA"
   ]
  },
  {
   "cell_type": "code",
   "execution_count": 2,
   "metadata": {},
   "outputs": [],
   "source": [
    "data_bank = pd.read_csv('./data/data_banknote_authentication.txt', sep=\",\", header=None)\n",
    "data_disease = pd.read_csv('./data/kidney_disease.csv', sep=\",\", header=0) "
   ]
  },
  {
   "cell_type": "markdown",
   "metadata": {
    "colab_type": "text",
    "id": "206-PpLNjEZQ"
   },
   "source": [
    "# Dataset Cleaning \n",
    "- Handle missing and categorical values\n",
    "- Replace missing values by average or median values\n",
    "- Center and normalize the data"
   ]
  },
  {
   "cell_type": "code",
   "execution_count": 3,
   "metadata": {},
   "outputs": [],
   "source": [
    "data_bank_cleaned = clean_data_f(data_bank)\n",
    "data_disease_cleaned = clean_data_f(data_disease)\n",
    "#data_cleaned.head()\n",
    "#data_disease_cleaned.head()"
   ]
  },
  {
   "cell_type": "markdown",
   "metadata": {
    "colab_type": "text",
    "id": "206-PpLNjEZQ"
   },
   "source": [
    "# Split the data set & PCA\n",
    "- Split between training set and test set\n",
    "- Split the training set for cross-validation"
   ]
  },
  {
   "cell_type": "code",
   "execution_count": 4,
   "metadata": {},
   "outputs": [
    {
     "ename": "SyntaxError",
     "evalue": "invalid syntax (<fstring>, line 1)",
     "output_type": "error",
     "traceback": [
      "\u001b[1;36m  File \u001b[1;32m\"<fstring>\"\u001b[1;36m, line \u001b[1;32m1\u001b[0m\n\u001b[1;33m    (p_values_bank = )\u001b[0m\n\u001b[1;37m                   ^\u001b[0m\n\u001b[1;31mSyntaxError\u001b[0m\u001b[1;31m:\u001b[0m invalid syntax\n"
     ]
    }
   ],
   "source": [
    "#Assumption of PCA : Data are gaussian distributed. We can check this assumption thanks to Shapiro Test \n",
    "p_values_bank = shapiro_test(data_bank_cleaned)\n",
    "p_values_disease = shapiro_test(data_disease_cleaned)\n",
    "\n",
    "print(f\"{p_values_bank = }\")\n",
    "print(f\"{p_values_disease = }\")"
   ]
  },
  {
   "cell_type": "markdown",
   "metadata": {},
   "source": [
    "Comment: Au vu des valeurs de p value, l'hypothèse selon laquelle les distributions sont normales ne semble pas vérifiée bien que les résultats obtenus par PCA soient tout à fait satisfaisant par la suite "
   ]
  },
  {
   "cell_type": "code",
   "execution_count": 5,
   "metadata": {},
   "outputs": [],
   "source": [
    "X_train_bank, X_test_bank, y_train_bank, y_test_bank = split_data_df(data_bank_cleaned, test_size=1/3)\n",
    "X_train_disease, X_test_disease, y_train_disease, y_test_disease, nb_features_disease = split_data_and_pca(data_disease_cleaned, test_size=1/3)\n",
    "\n",
    "#print(f\"{nb_features_disease = }\")"
   ]
  },
  {
   "cell_type": "markdown",
   "metadata": {},
   "source": [
    "# SVM Method"
   ]
  },
  {
   "cell_type": "markdown",
   "metadata": {},
   "source": [
    "Cross Validation"
   ]
  },
  {
   "cell_type": "code",
   "execution_count": null,
   "metadata": {},
   "outputs": [],
   "source": [
    "from sklearn import svm\n",
    "from sklearn import datasets\n",
    "from sklearn.model_selection import train_test_split"
   ]
  },
  {
   "cell_type": "code",
   "execution_count": null,
   "metadata": {},
   "outputs": [],
   "source": [
    "X = dataset_to_numpy(data_bank_cleaned)\n",
    "y = data_bank_cleaned[4].to_numpy() "
   ]
  },
  {
   "cell_type": "code",
   "execution_count": null,
   "metadata": {},
   "outputs": [],
   "source": [
    "from sklearn.metrics import precision_score, recall_score\n",
    "from sklearn.model_selection import KFold"
   ]
  },
  {
   "cell_type": "code",
   "execution_count": null,
   "metadata": {},
   "outputs": [
    {
     "ename": "SyntaxError",
     "evalue": "invalid syntax (<fstring>, line 1)",
     "output_type": "error",
     "traceback": [
      "\u001b[1;36m  File \u001b[1;32m\"<fstring>\"\u001b[1;36m, line \u001b[1;32m1\u001b[0m\n\u001b[1;33m    (precisions = )\u001b[0m\n\u001b[1;37m                ^\u001b[0m\n\u001b[1;31mSyntaxError\u001b[0m\u001b[1;31m:\u001b[0m invalid syntax\n"
     ]
    }
   ],
   "source": [
    "classes_labels = [0, 1]\n",
    "\n",
    "clf = svm.SVC()\n",
    "train_size = 100\n",
    "X_train, X_test, y_train, y_test = train_test_split(\n",
    "    X, y, train_size=train_size, shuffle=True\n",
    ")\n",
    "clf.fit(X_train, y_train)\n",
    "y_pred = clf.predict(X_test)\n",
    "precisions, recalls = precision_recall_multilabels(y_test, y_pred, classes_labels)\n",
    "\n",
    "print(f\"{precisions = }\")\n",
    "print(f\"{   recalls = }\")"
   ]
  },
  {
   "cell_type": "code",
   "execution_count": null,
   "metadata": {},
   "outputs": [
    {
     "data": {
      "text/plain": [
       "array([0, 1], dtype=int64)"
      ]
     },
     "execution_count": 18,
     "metadata": {},
     "output_type": "execute_result"
    }
   ],
   "source": [
    "np.unique(y)"
   ]
  },
  {
   "cell_type": "code",
   "execution_count": null,
   "metadata": {},
   "outputs": [],
   "source": [
    "num_classes = len(np.unique(y))\n",
    "classes_labels = [0, 1]\n",
    "\n",
    "\n",
    "clfs = {\n",
    "    \"linear\": svm.SVC(kernel=\"linear\", C=1.0),\n",
    "    \"poly2\": svm.SVC(kernel=\"poly\", C=1.0, degree=2, gamma=\"scale\", coef0=0.0),\n",
    "    # \"poly3\": svm.SVC(kernel=\"poly\", C=1.0, degree=3, gamma=\"scale\", coef0=0.0),\n",
    "    # \"poly4\": svm.SVC(kernel=\"poly\", C=1.0, degree=4, gamma=\"scale\", coef0=0.0),\n",
    "    \"rbf\": svm.SVC(kernel=\"rbf\", C=1.0, gamma=\"scale\"),\n",
    "    # \"sigmoid\": svm.SVC(kernel=\"sigmoid\", C=1.0, gamma=\"scale\", coef0=0.0),\n",
    "}\n",
    "\n",
    "clfs_results = {clf_name: {\"precisions\": None, \"recalls\": None} for clf_name in clfs}"
   ]
  },
  {
   "cell_type": "code",
   "execution_count": null,
   "metadata": {},
   "outputs": [
    {
     "name": "stdout",
     "output_type": "stream",
     "text": [
      "linear         \n",
      "     precisions\n",
      "                mean: [0.97 0.97]\n",
      "                 std: [0.02 0.02]\n",
      "        recalls\n",
      "                mean: [1.00 1.00]\n",
      "                 std: [0.01 0.01]\n",
      "poly2          \n",
      "     precisions\n",
      "                mean: [0.81 0.81]\n",
      "                 std: [0.06 0.06]\n",
      "        recalls\n",
      "                mean: [0.63 0.63]\n",
      "                 std: [0.06 0.06]\n",
      "rbf            \n",
      "     precisions\n",
      "                mean: [1.00 1.00]\n",
      "                 std: [0.00 0.00]\n",
      "        recalls\n",
      "                mean: [1.00 1.00]\n",
      "                 std: [0.00 0.00]\n"
     ]
    }
   ],
   "source": [
    "kf = KFold(n_splits=10, shuffle=True, random_state=34)\n",
    "\n",
    "for clf_name, clf in clfs.items():\n",
    "    precisions, recalls = kfold_precisions_recalls(X, y, classes_labels, clf, kf)\n",
    "\n",
    "    clfs_results[clf_name][\"precisions\"] = precisions\n",
    "    clfs_results[clf_name][\"recalls\"] = recalls\n",
    "\n",
    "kfold_multimodels_report(clfs_results)"
   ]
  },
  {
   "cell_type": "code",
   "execution_count": null,
   "metadata": {},
   "outputs": [
    {
     "data": {
      "text/plain": [
       "array([0, 0, 0, 0, 0, 0, 0, 0, 0, 0, 0, 0, 0, 0, 0, 0, 0, 0, 0, 0, 0, 0,\n",
       "       0, 0, 0, 0, 0, 0, 0, 0, 0, 0, 0, 0, 0, 0, 0, 0, 0, 0, 0, 0, 0, 0,\n",
       "       0, 0, 0, 0, 0, 0, 0, 0, 0, 0, 0, 0, 0, 0, 0, 0, 0, 0, 0, 0, 0, 0,\n",
       "       0, 0, 0, 0, 0, 0, 0, 0, 0, 0, 0, 0, 0, 0, 0, 0, 0, 0, 0, 0, 0, 0,\n",
       "       0, 0, 0, 0, 0, 0, 0, 0, 0, 0, 0, 0, 0, 0, 0, 0, 0, 0, 0, 0, 0, 0,\n",
       "       0, 0, 0, 0, 0, 0, 0, 0, 0, 0, 0, 0, 0, 0, 0, 0, 0, 0, 0, 0, 0, 0,\n",
       "       0, 0, 0, 0, 0, 0, 0, 0, 0, 0, 0, 0, 0, 0, 0, 0, 0, 0, 0, 0, 0, 0,\n",
       "       0, 0, 0, 0, 0, 0, 0, 0, 0, 0, 0, 0, 0, 0, 0, 0, 0, 0, 0, 0, 0, 0,\n",
       "       0, 0, 0, 0, 0, 0, 0, 0, 0, 0, 0, 0, 0, 0, 0, 0, 0, 0, 0, 0, 0, 0,\n",
       "       0, 0, 0, 0, 0, 0, 0, 0, 0, 0, 0, 0, 0, 0, 0, 0, 0, 0, 0, 0, 0, 0,\n",
       "       0, 0, 0, 0, 0, 0, 0, 0, 0, 0, 0, 0, 0, 0, 0, 0, 0, 0, 0, 0, 0, 0,\n",
       "       0, 0, 0, 0, 0, 0, 0, 0, 1, 1, 1, 1, 1, 1, 1, 1, 1, 1, 1, 1, 1, 1,\n",
       "       1, 1, 1, 1, 1, 1, 1, 1, 1, 1, 1, 1, 1, 1, 1, 1, 1, 1, 1, 1, 1, 1,\n",
       "       1, 1, 1, 1, 1, 1, 1, 1, 1, 1, 1, 1, 1, 1, 1, 1, 1, 1, 1, 1, 1, 1,\n",
       "       1, 1, 1, 1, 1, 1, 1, 1, 1, 1, 1, 1, 1, 1, 1, 1, 1, 1, 1, 1, 1, 1,\n",
       "       1, 1, 1, 1, 1, 1, 1, 1, 1, 1, 1, 1, 1, 1, 1, 1, 1, 1, 1, 1, 1, 1,\n",
       "       1, 1, 1, 1, 1, 1, 1, 1, 1, 1, 1, 1, 1, 1, 1, 1, 1, 1, 1, 1, 1, 1,\n",
       "       1, 1, 1, 1, 1, 1, 1, 1, 1, 1, 1, 1, 1, 1, 1, 1, 1, 1, 1, 1, 1, 1,\n",
       "       1, 1, 1, 1])"
      ]
     },
     "execution_count": 30,
     "metadata": {},
     "output_type": "execute_result"
    }
   ],
   "source": [
    "X=dataset_to_numpy(data_disease_cleaned,first_col=1, last_col=-2)\n",
    "y = data_disease_cleaned[data_disease_cleaned.columns[-1]].to_numpy()\n",
    "classes_labels = [0, 1]\n",
    "num_classes = len(np.unique(y))\n",
    "# np.shape(X)\n",
    "y"
   ]
  },
  {
   "cell_type": "code",
   "execution_count": null,
   "metadata": {},
   "outputs": [
    {
     "data": {
      "text/plain": [
       "array([[-31.30959454,  -8.27079448,  -9.03566225,  -1.87524267],\n",
       "       [-30.26002322,  -8.32970442,  -8.09872258,  -1.83438236],\n",
       "       [-29.25444523,  -8.54282794,  -7.29463328,   1.66862668],\n",
       "       ...,\n",
       "       [ 67.96746189,   2.34558783,  11.93634864,  -0.82800653],\n",
       "       [ 17.29671617,  34.28685834,  10.45781715,   0.09658046],\n",
       "       [ 29.72096133,  19.82629376,  13.09411551,  -0.29902136]])"
      ]
     },
     "execution_count": 31,
     "metadata": {},
     "output_type": "execute_result"
    }
   ],
   "source": [
    "X_pca=pca(X)\n",
    "X_pca"
   ]
  },
  {
   "cell_type": "code",
   "execution_count": null,
   "metadata": {},
   "outputs": [
    {
     "name": "stdout",
     "output_type": "stream",
     "text": [
      "precisions = [0.7596153846153846, 0.7596153846153846]\n",
      "   recalls = [0.7596153846153846, 0.7596153846153846]\n",
      "linear         \n",
      "     precisions\n",
      "                mean: [0.94 0.94]\n",
      "                 std: [0.04 0.04]\n",
      "        recalls\n",
      "                mean: [0.98 0.98]\n",
      "                 std: [0.04 0.04]\n",
      "poly2          \n",
      "     precisions\n",
      "                mean: [0.91 0.91]\n",
      "                 std: [0.09 0.09]\n",
      "        recalls\n",
      "                mean: [0.55 0.55]\n",
      "                 std: [0.13 0.13]\n",
      "rbf            \n",
      "     precisions\n",
      "                mean: [0.91 0.91]\n",
      "                 std: [0.08 0.08]\n",
      "        recalls\n",
      "                mean: [0.77 0.77]\n",
      "                 std: [0.10 0.10]\n"
     ]
    }
   ],
   "source": [
    "clf = svm.SVC()\n",
    "train_size = 100\n",
    "X_train, X_test, y_train, y_test = train_test_split(\n",
    "    X_pca, y, train_size=train_size, shuffle=True\n",
    ")\n",
    "clf.fit(X_train, y_train)\n",
    "y_pred = clf.predict(X_test)\n",
    "precisions, recalls = precision_recall_multilabels(y_test, y_pred, classes_labels)\n",
    "\n",
    "print(f\"{precisions = }\")\n",
    "print(f\"{   recalls = }\")\n",
    "kf = KFold(n_splits=10, shuffle=True, random_state=34)\n",
    "\n",
    "for clf_name, clf in clfs.items():\n",
    "    precisions, recalls = kfold_precisions_recalls(X_pca, y, classes_labels, clf, kf)\n",
    "\n",
    "    clfs_results[clf_name][\"precisions\"] = precisions\n",
    "    clfs_results[clf_name][\"recalls\"] = recalls\n",
    "\n",
    "kfold_multimodels_report(clfs_results)\n"
   ]
  },
  {
   "cell_type": "markdown",
   "metadata": {},
   "source": [
    "# Logistic Regression"
   ]
  },
  {
   "cell_type": "code",
   "execution_count": 6,
   "metadata": {},
   "outputs": [
    {
     "name": "stderr",
     "output_type": "stream",
     "text": [
      "C:\\Users\\jujul\\Anaconda3\\lib\\site-packages\\sklearn\\linear_model\\logistic.py:432: FutureWarning: Default solver will be changed to 'lbfgs' in 0.22. Specify a solver to silence this warning.\n",
      "  FutureWarning)\n"
     ]
    },
    {
     "name": "stdout",
     "output_type": "stream",
     "text": [
      "Validation Model : Logistic Regression\n",
      "Your model has a log_loss of : 0.5278974496645995%\n",
      "Your model has an accuracy of : 98.47161572052401%\n",
      "Your model has a recall of : 100.0%\n",
      "Your model has a F1 score = 0.9841986455981941 \n"
     ]
    },
    {
     "data": {
      "image/png": "[encoded data removed]",
      "text/plain": [
       "<Figure size 432x288 with 2 Axes>"
      ]
     },
     "metadata": {
      "needs_background": "light"
     },
     "output_type": "display_data"
    }
   ],
   "source": [
    "## Bank Note ##\n",
    "y_pred_lr_bank = Logistic_regression(X_train_bank, X_test_bank, y_train_bank, y_test_bank)\n",
    "confusionMatrix(y_test_bank, y_pred_lr_bank)\n",
    "\n",
    "print('Validation Model : Logistic Regression')\n",
    "validateModel(y_test_bank, y_pred_lr_bank)"
   ]
  },
  {
   "cell_type": "code",
   "execution_count": 8,
   "metadata": {},
   "outputs": [
    {
     "name": "stdout",
     "output_type": "stream",
     "text": [
      "Validation Model : Logistic Regression\n",
      "Your model has a log_loss of : 13.66085932037512%\n",
      "Your model has an accuracy of : 60.447761194029844%\n",
      "Your model has a recall of : 3.6363636363636362%\n",
      "Your model has a F1 score = 0.07017543859649122 \n"
     ]
    },
    {
     "name": "stderr",
     "output_type": "stream",
     "text": [
      "C:\\Users\\jujul\\Anaconda3\\lib\\site-packages\\sklearn\\linear_model\\logistic.py:432: FutureWarning: Default solver will be changed to 'lbfgs' in 0.22. Specify a solver to silence this warning.\n",
      "  FutureWarning)\n"
     ]
    },
    {
     "data": {
      "image/png": "[encoded data removed]",
      "text/plain": [
       "<Figure size 432x288 with 2 Axes>"
      ]
     },
     "metadata": {
      "needs_background": "light"
     },
     "output_type": "display_data"
    }
   ],
   "source": [
    "# Disease Note ##\n",
    "y_pred_lr_disease = Logistic_regression(X_train_disease, X_test_disease, y_train_disease, y_test_disease)\n",
    "confusionMatrix(y_test_disease, y_pred_lr_disease)\n",
    "\n",
    "print('Validation Model : Logistic Regression')\n",
    "validateModel(y_test_disease, y_pred_lr_disease)"
   ]
  },
  {
   "cell_type": "markdown",
   "metadata": {},
   "source": [
    "# KNN"
   ]
  },
  {
   "cell_type": "code",
   "execution_count": null,
   "metadata": {},
   "outputs": [
    {
     "data": {
      "text/plain": [
       "array([0.96666667, 0.975     , 0.99166667, 0.99166667, 0.98333333,\n",
       "       0.98333333, 0.99166667, 1.        , 0.98333333])"
      ]
     },
     "execution_count": 34,
     "metadata": {},
     "output_type": "execute_result"
    }
   ],
   "source": [
    "Ks = 10\n",
    "mean_acc = np.zeros((Ks-1))\n",
    "std_acc = np.zeros((Ks-1))\n",
    "test_size = 0.3\n",
    "for n in range(1,Ks):\n",
    "    \n",
    "    #Train Model and Predict  \n",
    "    X_train, X_test, y_train, y_test = split_data_df(data_disease_cleaned, test_size)\n",
    "    neigh  = KNeighborsClassifier(n_neighbors = n).fit(X_train,y_train)\n",
    "    y_pred = neigh.predict(X_test)\n",
    "    mean_acc[n-1] = metrics.accuracy_score(y_test, y_pred)\n",
    "\n",
    "    \n",
    "    std_acc[n-1]=np.std(y_pred==y_test)/np.sqrt(y_pred.shape[0])\n",
    "\n",
    "mean_acc"
   ]
  },
  {
   "cell_type": "code",
   "execution_count": null,
   "metadata": {},
   "outputs": [
    {
     "data": {
      "image/png": "[encoded data removed]",
      "text/plain": [
       "<Figure size 432x288 with 1 Axes>"
      ]
     },
     "metadata": {
      "needs_background": "light"
     },
     "output_type": "display_data"
    }
   ],
   "source": [
    "plt.plot(range(1,Ks),mean_acc,'g')\n",
    "plt.fill_between(range(1,Ks),mean_acc - 1 * std_acc,mean_acc + 1 * std_acc, alpha=0.10)\n",
    "plt.fill_between(range(1,Ks),mean_acc - 3 * std_acc,mean_acc + 3 * std_acc, alpha=0.10,color=\"green\")\n",
    "plt.legend(('Accuracy ', '+/- 1xstd','+/- 3xstd'))\n",
    "plt.ylabel('Accuracy ')\n",
    "plt.xlabel('Number of Neighbors (K)')\n",
    "plt.tight_layout()\n",
    "plt.show()"
   ]
  },
  {
   "cell_type": "code",
   "execution_count": null,
   "metadata": {},
   "outputs": [
    {
     "name": "stdout",
     "output_type": "stream",
     "text": [
      "The best accuracy was with 1.0 with k= 8\n"
     ]
    }
   ],
   "source": [
    "print( \"The best accuracy was with\", mean_acc.max(), \"with k=\", mean_acc.argmax()+1) "
   ]
  },
  {
   "cell_type": "markdown",
   "metadata": {},
   "source": [
    "# Decision Forest"
   ]
  },
  {
   "cell_type": "markdown",
   "metadata": {},
   "source": [
    "#### Bank dataset Train and Test :"
   ]
  },
  {
   "cell_type": "code",
   "execution_count": null,
   "metadata": {},
   "outputs": [
    {
     "name": "stdout",
     "output_type": "stream",
     "text": [
      "Optimal Depth = {opt}\n"
     ]
    }
   ],
   "source": [
    "# Training Decision Trees\n",
    "Bank_Class_DeciForest = trainDecisionForest(X_train_bank, y_train_bank, 100)\n",
    "Bank_Class_AdaBoost = trainAdaBoost(X_train_bank, y_train_bank, 100)\n",
    "\n",
    "# Test Decision Trees\n",
    "Bank_Predic_DeciForest = testDecisionForest(Bank_Class_DeciForest, X_test_bank)\n",
    "Bank_Predic_AdaBoost = testAdaBoost(Bank_Class_AdaBoost, X_test_bank)"
   ]
  },
  {
   "cell_type": "code",
   "execution_count": null,
   "metadata": {},
   "outputs": [
    {
     "name": "stdout",
     "output_type": "stream",
     "text": [
      "Validation Model : Decision Forest\n",
      "Your model has a log_loss of : 0.22623827245013683%\n",
      "Your model has an accuracy of : 99.34497816593887%\n",
      "Your model has a recall of : 99.06103286384976%\n",
      "Your model has a F1 score = 0.9929411764705881 \n"
     ]
    },
    {
     "data": {
      "image/png": "[encoded data removed]",
      "text/plain": [
       "<Figure size 432x288 with 2 Axes>"
      ]
     },
     "metadata": {
      "needs_background": "light"
     },
     "output_type": "display_data"
    }
   ],
   "source": [
    "# Decision Trees Validation\n",
    "Bank_Conf_DeciForest = confusionMatrix(y_test_bank, Bank_Predic_DeciForest)\n",
    "\n",
    "print('Validation Model : Decision Forest')\n",
    "validateModel(y_test_bank, Bank_Predic_DeciForest)\n"
   ]
  },
  {
   "cell_type": "code",
   "execution_count": null,
   "metadata": {},
   "outputs": [
    {
     "name": "stdout",
     "output_type": "stream",
     "text": [
      "Validation Model : Ada Boost\n",
      "Your model has a log_loss of : 0.30165044798487634%\n",
      "Your model has an accuracy of : 99.12663755458514%\n",
      "Your model has a recall of : 98.59154929577466%\n",
      "Your model has a F1 score = 0.9905660377358492 \n"
     ]
    },
    {
     "data": {
      "image/png": "[encoded data removed]",
      "text/plain": [
       "<Figure size 432x288 with 2 Axes>"
      ]
     },
     "metadata": {
      "needs_background": "light"
     },
     "output_type": "display_data"
    }
   ],
   "source": [
    "Bank_Conf_AdaBoost = confusionMatrix(y_test_bank, Bank_Predic_AdaBoost)\n",
    "\n",
    "print('Validation Model : Ada Boost')\n",
    "validateModel(y_test_bank, Bank_Predic_AdaBoost)"
   ]
  },
  {
   "cell_type": "markdown",
   "metadata": {},
   "source": [
    "#### Disease dataset Train and Test :"
   ]
  },
  {
   "cell_type": "code",
   "execution_count": null,
   "metadata": {},
   "outputs": [
    {
     "name": "stdout",
     "output_type": "stream",
     "text": [
      "Optimal Depth = 2\n"
     ]
    }
   ],
   "source": [
    "# Training Decision Trees\n",
    "Disease_Class_DeciForest = trainDecisionForest(X_train_disease, y_train_disease, 100)\n",
    "Disease_Class_AdaBoost = trainAdaBoost(X_train_disease, y_train_disease, 100)\n",
    "\n",
    "# Test Decision Trees\n",
    "Disease_Predic_DeciForest = testDecisionForest(Disease_Class_DeciForest, X_test_disease)\n",
    "Disease_Predic_AdaBoost = testAdaBoost(Disease_Class_AdaBoost, X_test_disease)"
   ]
  },
  {
   "cell_type": "code",
   "execution_count": null,
   "metadata": {},
   "outputs": [
    {
     "name": "stdout",
     "output_type": "stream",
     "text": [
      "Validation Model : Decision Forest\n",
      "Your model has a log_loss of : 9.992007221626413e-16%\n",
      "Your model has an accuracy of : 100.0%\n",
      "Your model has a recall of : 100.0%\n",
      "Your model has a F1 score = 1.0 \n"
     ]
    },
    {
     "data": {
      "image/png": "[encoded data removed]",
      "text/plain": [
       "<Figure size 432x288 with 2 Axes>"
      ]
     },
     "metadata": {
      "needs_background": "light"
     },
     "output_type": "display_data"
    }
   ],
   "source": [
    "# Decision Trees Validation\n",
    "Disease_Conf_DeciForest = confusionMatrix(y_test_disease, Disease_Predic_DeciForest)\n",
    "\n",
    "print('Validation Model : Decision Forest')\n",
    "validateModel(y_test_disease, Disease_Predic_DeciForest)"
   ]
  },
  {
   "cell_type": "code",
   "execution_count": null,
   "metadata": {},
   "outputs": [
    {
     "name": "stdout",
     "output_type": "stream",
     "text": [
      "Validation Model : Ada Boost\n",
      "Your model has a log_loss of : 0.2878231366242565%\n",
      "Your model has an accuracy of : 99.16666666666667%\n",
      "Your model has a recall of : 98.36065573770492%\n",
      "Your model has a F1 score = 0.9917355371900827 \n"
     ]
    },
    {
     "data": {
      "image/png": "[encoded data removed]",
      "text/plain": [
       "<Figure size 432x288 with 2 Axes>"
      ]
     },
     "metadata": {
      "needs_background": "light"
     },
     "output_type": "display_data"
    }
   ],
   "source": [
    "Bank_Conf_AdaBoost = confusionMatrix(y_test_disease, Disease_Predic_AdaBoost)\n",
    "\n",
    "print('Validation Model : Ada Boost')\n",
    "validateModel(y_test_disease, Disease_Predic_AdaBoost)"
   ]
  },
  {
   "cell_type": "code",
   "execution_count": null,
   "metadata": {},
   "outputs": [],
   "source": []
  }
 ],
 "metadata": {
  "colab": {
   "collapsed_sections": [],
   "name": "PCA_lab_session_solution.ipynb",
   "provenance": []
  },
  "kernelspec": {
   "display_name": "Python 3",
   "language": "python",
   "name": "python3"
  },
  "language_info": {
   "codemirror_mode": {
    "name": "ipython",
    "version": 3
   },
   "file_extension": ".py",
   "mimetype": "text/x-python",
   "name": "python",
   "nbconvert_exporter": "python",
   "pygments_lexer": "ipython3",
   "version": "3.9.7"
  },
  "latex_envs": {
   "LaTeX_envs_menu_present": true,
   "autoclose": false,
   "autocomplete": true,
   "bibliofile": "biblio.bib",
   "cite_by": "apalike",
   "current_citInitial": 1,
   "eqLabelWithNumbers": true,
   "eqNumInitial": 1,
   "hotkeys": {
    "equation": "Ctrl-E",
    "itemize": "Ctrl-I"
   },
   "labels_anchors": false,
   "latex_user_defs": false,
   "report_style_numbering": false,
   "user_envs_cfg": false
  }
 },
 "nbformat": 4,
 "nbformat_minor": 1
}
