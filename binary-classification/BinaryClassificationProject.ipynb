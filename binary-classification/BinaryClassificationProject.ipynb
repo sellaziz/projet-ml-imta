{
 "cells": [
  {
   "cell_type": "markdown",
   "metadata": {
    "colab_type": "text",
    "id": "jm6B9mTuqGmf"
   },
   "source": [
    "<div id=\"image\">\n",
    "<img src=\"https://www.imt-atlantique.fr/sites/default/files/logo_mt_0_0.png\" WIDTH=280 HEIGHT=280>\n",
    "</div>\n",
    "<div id=\"subject\">\n",
    "<CENTER>\n",
    "</br>\n",
    "\n",
    "\n",
    "<font size=\"5\"></br> UE Introduction au Machine Learning: Project ML </font></br></div>\n",
    "</CENTER>\n",
    "<CENTER>\n",
    "<font size=\"3\"></br></font></br></div>\n",
    "</CENTER>\n",
    "<CENTER>\n",
    "<span style=\"color:blue\"></span>\n",
    "</CENTER>\n",
    "\n",
    "**The objective of the project is to apply a Machine Learning model onto two different datasets:**\n",
    "- Banknote Authentication Dataset\n",
    "- Chronic Kidney Disease:\n",
    "\n",
    "\n",
    "Workflow : \n",
    "\n",
    "1. Import the dataset\n",
    "2. Clean the data, perform pre-processing\n",
    "I Replace missing values by average or median values\n",
    "I Center and normalize the data\n",
    "3. Split the dataset\n",
    "I Split between training set and test set\n",
    "I Split the training set for cross-validation\n",
    "4. Train the model (including feature selection)\n",
    "5. Validate the model\n",
    "\n",
    "**Objective:** collaboratively implement this workflow and apply it to different ML problems/datasets"
   ]
  },
  {
   "cell_type": "markdown",
   "metadata": {
    "colab_type": "text",
    "id": "g2Trc7GWqGm4"
   },
   "source": [
    "# Import Data \n",
    "\n"
   ]
  },
  {
   "cell_type": "code",
   "execution_count": 1,
   "metadata": {
    "ExecuteTime": {
     "end_time": "2020-11-28T17:52:04.758116Z",
     "start_time": "2020-11-28T17:52:04.276122Z"
    },
    "colab": {
     "base_uri": "https://localhost:8080/",
     "height": 141
    },
    "colab_type": "code",
    "id": "NCRwh9bOxR0k",
    "outputId": "aa87a609-7df6-458e-d1a3-25c3f84f6354"
   },
   "outputs": [],
   "source": [
    "from library import *\n",
    "import numpy as np\n",
    "import scipy.io as sio\n",
    "import scipy as sp\n",
    "import matplotlib.pyplot as plt\n",
    "import pandas as pd\n",
    "from pylab import *\n",
    "from sklearn import svm"
   ]
  },
  {
   "cell_type": "code",
   "execution_count": 2,
   "metadata": {},
   "outputs": [],
   "source": [
    "data_bank = pd.read_csv('./data/data_banknote_authentication.txt', sep=\",\", header=None)\n",
    "data_disease = pd.read_csv('./data/kidney_disease.csv', sep=\",\", header=0) "
   ]
  },
  {
   "cell_type": "markdown",
   "metadata": {
    "colab_type": "text",
    "id": "206-PpLNjEZQ"
   },
   "source": [
    "# Dataset Cleaning \n",
    "- Handle missing and categorical values\n",
    "- Replace missing values by average or median values\n",
    "- Center and normalize the data"
   ]
  },
  {
   "cell_type": "code",
   "execution_count": 3,
   "metadata": {},
   "outputs": [
    {
     "name": "stderr",
     "output_type": "stream",
     "text": [
      "/home/sella/anaconda3/lib/python3.9/site-packages/numpy/core/fromnumeric.py:3417: FutureWarning: Dropping of nuisance columns in DataFrame reductions (with 'numeric_only=None') is deprecated; in a future version this will raise TypeError.  Select only valid columns before calling the reduction.\n",
      "  return mean(axis=axis, dtype=dtype, out=out, **kwargs)\n",
      "/home/sella/anaconda3/lib/python3.9/site-packages/numpy/core/fromnumeric.py:3558: FutureWarning: Dropping of nuisance columns in DataFrame reductions (with 'numeric_only=None') is deprecated; in a future version this will raise TypeError.  Select only valid columns before calling the reduction.\n",
      "  return std(axis=axis, dtype=dtype, out=out, ddof=ddof, **kwargs)\n"
     ]
    }
   ],
   "source": [
    "data_bank_cleaned = clean_data_f(data_bank)\n",
    "data_disease_cleaned = clean_data_f(data_disease)\n",
    "#data_cleaned.head()\n",
    "#data_disease_cleaned.head()"
   ]
  },
  {
   "cell_type": "markdown",
   "metadata": {
    "colab_type": "text",
    "id": "206-PpLNjEZQ"
   },
   "source": [
    "# Split the data set & PCA\n",
    "- Split between training set and test set\n",
    "- Split the training set for cross-validation"
   ]
  },
  {
   "cell_type": "code",
   "execution_count": 4,
   "metadata": {},
   "outputs": [
    {
     "name": "stdout",
     "output_type": "stream",
     "text": [
      "p_values_bank = array([4.68890725e-12, 8.22498807e-15, 2.75900453e-25, 4.46916858e-27,\n",
      "       0.00000000e+00])\n",
      "p_values_disease = array([9.57961488e-10, 3.20041629e-08, 7.95709947e-18, 4.91368133e-15,\n",
      "       4.75813730e-23, 5.67730916e-32, 8.25855380e-35, 1.55249802e-32,\n",
      "       2.88500637e-35, 2.26948537e-37, 3.35469001e-23, 3.17993948e-25,\n",
      "       2.58210696e-34, 3.11202951e-30, 2.81900249e-38, 2.36913285e-04,\n",
      "       6.31699893e-14, 1.09465918e-18, 1.51910928e-20, 4.78966830e-29,\n",
      "       2.26097134e-29, 4.76978967e-36, 3.92352420e-32, 1.55249802e-32,\n",
      "       1.02025416e-33, 5.85234078e-29])\n"
     ]
    }
   ],
   "source": [
    "#Assumption of PCA : Data are gaussian distributed. We can check this assumption thanks to Shapiro Test \n",
    "p_values_bank = shapiro_test(data_bank_cleaned)\n",
    "p_values_disease = shapiro_test(data_disease_cleaned)\n",
    "\n",
    "print(f\"{p_values_bank = }\")\n",
    "print(f\"{p_values_disease = }\")"
   ]
  },
  {
   "cell_type": "markdown",
   "metadata": {},
   "source": [
    "Comment: Au vu des valeurs de p value, l'hypothèse selon laquelle les distributions sont normales ne semble pas vérifiée bien que les résultats obtenus par PCA soient tout à fait satisfaisant par la suite "
   ]
  },
  {
   "cell_type": "code",
   "execution_count": 5,
   "metadata": {},
   "outputs": [],
   "source": [
    "X_train_bank, X_test_bank, y_train_bank, y_test_bank = split_data_df(data_bank_cleaned, test_size=1/3)\n",
    "X_train_disease, X_test_disease, y_train_disease, y_test_disease, nb_features_disease = split_data_and_pca(data_disease_cleaned, test_size=1/3)\n",
    "\n",
    "#print(f\"{nb_features_disease = }\")"
   ]
  },
  {
   "cell_type": "markdown",
   "metadata": {},
   "source": [
    "# SVM Method"
   ]
  },
  {
   "cell_type": "markdown",
   "metadata": {},
   "source": [
    "### Banknote Dataset"
   ]
  },
  {
   "cell_type": "code",
   "execution_count": 6,
   "metadata": {},
   "outputs": [],
   "source": [
    "# Format the data as numpy arrays\n",
    "X = dataset_to_numpy(data_bank_cleaned)\n",
    "y = data_bank_cleaned[4].to_numpy() "
   ]
  },
  {
   "cell_type": "code",
   "execution_count": 7,
   "metadata": {},
   "outputs": [
    {
     "name": "stdout",
     "output_type": "stream",
     "text": [
      "precision for class 0,1 : [1.0, 0.96]\n",
      "recalls   for class 0,1 : [0.97, 1.0]\n"
     ]
    }
   ],
   "source": [
    "# Test the SVM on the Banknote Dataset\n",
    "precisions, recalls = testSVM(X,y)"
   ]
  },
  {
   "cell_type": "code",
   "execution_count": 8,
   "metadata": {},
   "outputs": [],
   "source": [
    "# Generate a set of SVM Classifiers to test\n",
    "clfs = {\n",
    "    \"linear\": svm.SVC(kernel=\"linear\", C=1.0),\n",
    "    \"poly2\": svm.SVC(kernel=\"poly\", C=1.0, degree=2, gamma=\"scale\", coef0=0.0),\n",
    "    # \"poly3\": svm.SVC(kernel=\"poly\", C=1.0, degree=3, gamma=\"scale\", coef0=0.0),\n",
    "    # \"poly4\": svm.SVC(kernel=\"poly\", C=1.0, degree=4, gamma=\"scale\", coef0=0.0),\n",
    "    \"rbf\": svm.SVC(kernel=\"rbf\", C=1.0, gamma=\"scale\"),\n",
    "    # \"sigmoid\": svm.SVC(kernel=\"sigmoid\", C=1.0, gamma=\"scale\", coef0=0.0),\n",
    "}"
   ]
  },
  {
   "cell_type": "code",
   "execution_count": 9,
   "metadata": {},
   "outputs": [
    {
     "name": "stdout",
     "output_type": "stream",
     "text": [
      "classes:             [   0    1]\n",
      "linear         \n",
      "     precisions\n",
      "                mean: [1.00 0.97]\n",
      "                 std: [0.00 0.02]\n",
      "        recalls\n",
      "                mean: [0.97 1.00]\n",
      "                 std: [0.02 0.01]\n",
      "poly2          \n",
      "     precisions\n",
      "                mean: [0.75 0.81]\n",
      "                 std: [0.04 0.06]\n",
      "        recalls\n",
      "                mean: [0.88 0.63]\n",
      "                 std: [0.03 0.06]\n",
      "rbf            \n",
      "     precisions\n",
      "                mean: [1.00 1.00]\n",
      "                 std: [0.00 0.00]\n",
      "        recalls\n",
      "                mean: [1.00 1.00]\n",
      "                 std: [0.00 0.00]\n"
     ]
    }
   ],
   "source": [
    "# Do a cross validation for the multiple classifiers\n",
    "crossValidation(X,y,clfs)"
   ]
  },
  {
   "cell_type": "markdown",
   "metadata": {},
   "source": [
    "### Kidney Disease Dataset"
   ]
  },
  {
   "cell_type": "code",
   "execution_count": 10,
   "metadata": {},
   "outputs": [],
   "source": [
    "X=dataset_to_numpy(data_disease_cleaned,first_col=1, last_col=-2)\n",
    "y = data_disease_cleaned[data_disease_cleaned.columns[-1]].to_numpy()\n",
    "X_pca=pca(X)"
   ]
  },
  {
   "cell_type": "code",
   "execution_count": 11,
   "metadata": {},
   "outputs": [
    {
     "name": "stdout",
     "output_type": "stream",
     "text": [
      "precision for class 0,1 : [0.87, 0.81]\n",
      "recalls   for class 0,1 : [0.89, 0.77]\n"
     ]
    }
   ],
   "source": [
    "# Test SVM on the Kidney Disease Dataset\n",
    "precisions, recalls = testSVM(X_pca,y)"
   ]
  },
  {
   "cell_type": "code",
   "execution_count": 12,
   "metadata": {},
   "outputs": [
    {
     "name": "stdout",
     "output_type": "stream",
     "text": [
      "classes:             [   0    1]\n",
      "linear         \n",
      "     precisions\n",
      "                mean: [0.98 0.94]\n",
      "                 std: [0.03 0.04]\n",
      "        recalls\n",
      "                mean: [0.96 0.98]\n",
      "                 std: [0.02 0.04]\n",
      "poly2          \n",
      "     precisions\n",
      "                mean: [0.78 0.91]\n",
      "                 std: [0.09 0.09]\n",
      "        recalls\n",
      "                mean: [0.97 0.55]\n",
      "                 std: [0.03 0.13]\n",
      "rbf            \n",
      "     precisions\n",
      "                mean: [0.87 0.91]\n",
      "                 std: [0.07 0.08]\n",
      "        recalls\n",
      "                mean: [0.95 0.77]\n",
      "                 std: [0.04 0.10]\n"
     ]
    }
   ],
   "source": [
    "crossValidation(X_pca,y,clfs)"
   ]
  },
  {
   "cell_type": "markdown",
   "metadata": {},
   "source": [
    "# Logistic Regression"
   ]
  },
  {
   "cell_type": "markdown",
   "metadata": {},
   "source": [
    "### Banknote Dataset"
   ]
  },
  {
   "cell_type": "code",
   "execution_count": 13,
   "metadata": {},
   "outputs": [
    {
     "name": "stdout",
     "output_type": "stream",
     "text": [
      "Validation Model : Logistic Regression\n",
      "Your model has a log_loss of : 0.68%\n",
      "Your model has an accuracy of : 98.03%\n",
      "Your model has a recall of : 98.94%\n",
      "Your model has a F1 score = 0.98 \n"
     ]
    },
    {
     "data": {
      "image/png": "[encoded data removed]",
      "text/plain": [
       "<Figure size 432x288 with 2 Axes>"
      ]
     },
     "metadata": {
      "needs_background": "light"
     },
     "output_type": "display_data"
    }
   ],
   "source": [
    "## Bank Note ##\n",
    "y_pred_lr_bank = Logistic_regression(X_train_bank, X_test_bank, y_train_bank, y_test_bank)\n",
    "confusionMatrix(y_test_bank, y_pred_lr_bank)\n",
    "\n",
    "print('Validation Model : Logistic Regression')\n",
    "validateModel(y_test_bank, y_pred_lr_bank)"
   ]
  },
  {
   "cell_type": "markdown",
   "metadata": {},
   "source": [
    "### Kidney Disease Dataset"
   ]
  },
  {
   "cell_type": "code",
   "execution_count": 14,
   "metadata": {},
   "outputs": [
    {
     "name": "stdout",
     "output_type": "stream",
     "text": [
      "Validation Model : Logistic Regression\n",
      "Your model has a log_loss of : 0.26%\n",
      "Your model has an accuracy of : 99.25%\n",
      "Your model has a recall of : 98.11%\n",
      "Your model has a F1 score = 0.99 \n"
     ]
    },
    {
     "data": {
      "image/png": "[encoded data removed]",
      "text/plain": [
       "<Figure size 432x288 with 2 Axes>"
      ]
     },
     "metadata": {
      "needs_background": "light"
     },
     "output_type": "display_data"
    }
   ],
   "source": [
    "# Disease Note ##\n",
    "y_pred_lr_disease = Logistic_regression(X_train_disease, X_test_disease, y_train_disease, y_test_disease)\n",
    "confusionMatrix(y_test_disease, y_pred_lr_disease)\n",
    "\n",
    "print('Validation Model : Logistic Regression')\n",
    "validateModel(y_test_disease, y_pred_lr_disease)"
   ]
  },
  {
   "cell_type": "markdown",
   "metadata": {},
   "source": [
    "# KNN"
   ]
  },
  {
   "cell_type": "markdown",
   "metadata": {},
   "source": [
    "### Kidney Disease Dataset"
   ]
  },
  {
   "cell_type": "code",
   "execution_count": 15,
   "metadata": {},
   "outputs": [],
   "source": [
    "Ks = 10\n",
    "mean_acc = np.zeros((Ks-1))\n",
    "std_acc = np.zeros((Ks-1))\n",
    "test_size = 0.3\n",
    "for n in range(1,Ks):\n",
    "    \n",
    "    #Train Model and Predict  \n",
    "    X_train, X_test, y_train, y_test = split_data_df(data_disease_cleaned, test_size)\n",
    "    neigh  = KNeighborsClassifier(n_neighbors = n).fit(X_train,y_train)\n",
    "    y_pred = neigh.predict(X_test)\n",
    "    mean_acc[n-1] = metrics.accuracy_score(y_test, y_pred)\n",
    "\n",
    "    \n",
    "    std_acc[n-1]=np.std(y_pred==y_test)/np.sqrt(y_pred.shape[0])\n",
    "\n",
    "# mean_acc"
   ]
  },
  {
   "cell_type": "code",
   "execution_count": 16,
   "metadata": {},
   "outputs": [
    {
     "data": {
      "image/png": "[encoded data removed]",
      "text/plain": [
       "<Figure size 432x288 with 1 Axes>"
      ]
     },
     "metadata": {
      "needs_background": "light"
     },
     "output_type": "display_data"
    }
   ],
   "source": [
    "plt.plot(range(1,Ks),mean_acc,'g')\n",
    "plt.fill_between(range(1,Ks),mean_acc - 1 * std_acc,mean_acc + 1 * std_acc, alpha=0.10)\n",
    "plt.fill_between(range(1,Ks),mean_acc - 3 * std_acc,mean_acc + 3 * std_acc, alpha=0.10,color=\"green\")\n",
    "plt.legend(('Accuracy ', '+/- 1xstd','+/- 3xstd'))\n",
    "plt.ylabel('Accuracy ')\n",
    "plt.xlabel('Number of Neighbors (K)')\n",
    "plt.tight_layout()\n",
    "plt.show()"
   ]
  },
  {
   "cell_type": "code",
   "execution_count": 17,
   "metadata": {},
   "outputs": [
    {
     "name": "stdout",
     "output_type": "stream",
     "text": [
      "The best accuracy was with 1.000 with k= 7\n"
     ]
    }
   ],
   "source": [
    "print( f\"The best accuracy was with {mean_acc.max():.3f} with k= {mean_acc.argmax()+1}\") "
   ]
  },
  {
   "cell_type": "markdown",
   "metadata": {},
   "source": [
    "### Banknote Dataset"
   ]
  },
  {
   "cell_type": "code",
   "execution_count": 18,
   "metadata": {},
   "outputs": [],
   "source": [
    "Ks = 10\n",
    "mean_acc = np.zeros((Ks-1))\n",
    "std_acc = np.zeros((Ks-1))\n",
    "test_size = 0.3\n",
    "for n in range(1,Ks):\n",
    "    \n",
    "    #Train Model and Predict  \n",
    "    neigh = KNeighborsClassifier(n_neighbors = n).fit(X_train_bank,y_train_bank)\n",
    "    y_pred_bank = neigh.predict(X_test_bank)\n",
    "    mean_acc[n-1] = metrics.accuracy_score(y_test_bank, y_pred_bank)\n",
    "\n",
    "    \n",
    "    std_acc[n-1]=np.std(y_pred_bank==y_test_bank)/np.sqrt(y_pred.shape[0])\n",
    "\n",
    "# mean_acc"
   ]
  },
  {
   "cell_type": "code",
   "execution_count": 19,
   "metadata": {},
   "outputs": [
    {
     "data": {
      "image/png": "[encoded data removed]",
      "text/plain": [
       "<Figure size 432x288 with 1 Axes>"
      ]
     },
     "metadata": {
      "needs_background": "light"
     },
     "output_type": "display_data"
    }
   ],
   "source": [
    "plt.plot(range(1,Ks),mean_acc,'g')\n",
    "plt.fill_between(range(1,Ks),mean_acc - 1 * std_acc,mean_acc + 1 * std_acc, alpha=0.10)\n",
    "plt.fill_between(range(1,Ks),mean_acc - 3 * std_acc,mean_acc + 3 * std_acc, alpha=0.10,color=\"green\")\n",
    "plt.legend(('Accuracy ', '+/- 1xstd','+/- 3xstd'))\n",
    "plt.ylabel('Accuracy ')\n",
    "plt.xlabel('Number of Neighbors (K)')\n",
    "plt.tight_layout()\n",
    "plt.show()"
   ]
  },
  {
   "cell_type": "code",
   "execution_count": 20,
   "metadata": {},
   "outputs": [
    {
     "name": "stdout",
     "output_type": "stream",
     "text": [
      "The best accuracy was with 0.998 with k= 1\n"
     ]
    }
   ],
   "source": [
    "print( f\"The best accuracy was with {mean_acc.max():.3f} with k= {mean_acc.argmax()+1}\") "
   ]
  },
  {
   "cell_type": "markdown",
   "metadata": {},
   "source": [
    "# Decision Forest"
   ]
  },
  {
   "cell_type": "markdown",
   "metadata": {},
   "source": [
    "### Banknote Dataset"
   ]
  },
  {
   "cell_type": "code",
   "execution_count": 21,
   "metadata": {},
   "outputs": [
    {
     "name": "stdout",
     "output_type": "stream",
     "text": [
      "Optimal Depth = 18\n"
     ]
    }
   ],
   "source": [
    "# Training Decision Trees\n",
    "Bank_Class_DeciForest = trainDecisionForest(X_train_bank, y_train_bank, 100)\n",
    "Bank_Class_AdaBoost = trainAdaBoost(X_train_bank, y_train_bank, 100)\n",
    "\n",
    "# Test Decision Trees\n",
    "Bank_Predic_DeciForest = testClassifier(Bank_Class_DeciForest, X_test_bank)\n",
    "Bank_Predic_AdaBoost = testClassifier(Bank_Class_AdaBoost, X_test_bank)"
   ]
  },
  {
   "cell_type": "code",
   "execution_count": 22,
   "metadata": {},
   "outputs": [
    {
     "name": "stdout",
     "output_type": "stream",
     "text": [
      "Validation Model : Decision Forest\n",
      "Your model has a log_loss of : 0.45%\n",
      "Your model has an accuracy of : 98.69%\n",
      "Your model has a recall of : 97.87%\n",
      "Your model has a F1 score = 0.98 \n"
     ]
    },
    {
     "data": {
      "image/png": "[encoded data removed]",
      "text/plain": [
       "<Figure size 432x288 with 2 Axes>"
      ]
     },
     "metadata": {
      "needs_background": "light"
     },
     "output_type": "display_data"
    }
   ],
   "source": [
    "# Decision Trees Validation\n",
    "Bank_Conf_DeciForest = confusionMatrix(y_test_bank, Bank_Predic_DeciForest)\n",
    "\n",
    "print('Validation Model : Decision Forest')\n",
    "validateModel(y_test_bank, Bank_Predic_DeciForest)\n"
   ]
  },
  {
   "cell_type": "code",
   "execution_count": 23,
   "metadata": {},
   "outputs": [
    {
     "name": "stdout",
     "output_type": "stream",
     "text": [
      "Validation Model : Ada Boost\n",
      "Your model has a log_loss of : 0.23%\n",
      "Your model has an accuracy of : 99.34%\n",
      "Your model has a recall of : 98.94%\n",
      "Your model has a F1 score = 0.99 \n"
     ]
    },
    {
     "data": {
      "image/png": "[encoded data removed]",
      "text/plain": [
       "<Figure size 432x288 with 2 Axes>"
      ]
     },
     "metadata": {
      "needs_background": "light"
     },
     "output_type": "display_data"
    }
   ],
   "source": [
    "# Ada Boost Validation\n",
    "Bank_Conf_AdaBoost = confusionMatrix(y_test_bank, Bank_Predic_AdaBoost)\n",
    "\n",
    "print('Validation Model : Ada Boost')\n",
    "validateModel(y_test_bank, Bank_Predic_AdaBoost)"
   ]
  },
  {
   "cell_type": "markdown",
   "metadata": {},
   "source": [
    "### Kidney Disease Dataset"
   ]
  },
  {
   "cell_type": "code",
   "execution_count": 24,
   "metadata": {},
   "outputs": [
    {
     "name": "stdout",
     "output_type": "stream",
     "text": [
      "Optimal Depth = 2\n"
     ]
    }
   ],
   "source": [
    "# Training Decision Trees\n",
    "Disease_Class_DeciForest = trainDecisionForest(X_train_disease, y_train_disease, 100)\n",
    "Disease_Class_AdaBoost = trainAdaBoost(X_train_disease, y_train_disease, 100)\n",
    "\n",
    "# Test Decision Trees\n",
    "Disease_Predic_DeciForest = testClassifier(Disease_Class_DeciForest, X_test_disease)\n",
    "Disease_Predic_AdaBoost = testClassifier(Disease_Class_AdaBoost, X_test_disease)"
   ]
  },
  {
   "cell_type": "code",
   "execution_count": 25,
   "metadata": {},
   "outputs": [
    {
     "name": "stdout",
     "output_type": "stream",
     "text": [
      "Validation Model : Decision Forest\n",
      "Your model has a log_loss of : 0.77%\n",
      "Your model has an accuracy of : 97.76%\n",
      "Your model has a recall of : 94.34%\n",
      "Your model has a F1 score = 0.97 \n"
     ]
    },
    {
     "data": {
      "image/png": "[encoded data removed]",
      "text/plain": [
       "<Figure size 432x288 with 2 Axes>"
      ]
     },
     "metadata": {
      "needs_background": "light"
     },
     "output_type": "display_data"
    }
   ],
   "source": [
    "# Decision Trees Validation\n",
    "Disease_Conf_DeciForest = confusionMatrix(y_test_disease, Disease_Predic_DeciForest)\n",
    "\n",
    "print('Validation Model : Decision Forest')\n",
    "validateModel(y_test_disease, Disease_Predic_DeciForest)"
   ]
  },
  {
   "cell_type": "code",
   "execution_count": 26,
   "metadata": {},
   "outputs": [
    {
     "name": "stdout",
     "output_type": "stream",
     "text": [
      "Validation Model : Ada Boost\n",
      "Your model has a log_loss of : 0.52%\n",
      "Your model has an accuracy of : 98.51%\n",
      "Your model has a recall of : 96.23%\n",
      "Your model has a F1 score = 0.98 \n"
     ]
    },
    {
     "data": {
      "image/png": "[encoded data removed]",
      "text/plain": [
       "<Figure size 432x288 with 2 Axes>"
      ]
     },
     "metadata": {
      "needs_background": "light"
     },
     "output_type": "display_data"
    }
   ],
   "source": [
    "# Ada Boost Validation\n",
    "Bank_Conf_AdaBoost = confusionMatrix(y_test_disease, Disease_Predic_AdaBoost)\n",
    "\n",
    "print('Validation Model : Ada Boost')\n",
    "validateModel(y_test_disease, Disease_Predic_AdaBoost)"
   ]
  }
 ],
 "metadata": {
  "colab": {
   "collapsed_sections": [],
   "name": "PCA_lab_session_solution.ipynb",
   "provenance": []
  },
  "kernelspec": {
   "display_name": "Python 3",
   "language": "python",
   "name": "python3"
  },
  "language_info": {
   "codemirror_mode": {
    "name": "ipython",
    "version": 3
   },
   "file_extension": ".py",
   "mimetype": "text/x-python",
   "name": "python",
   "nbconvert_exporter": "python",
   "pygments_lexer": "ipython3",
   "version": "3.9.7"
  },
  "latex_envs": {
   "LaTeX_envs_menu_present": true,
   "autoclose": false,
   "autocomplete": true,
   "bibliofile": "biblio.bib",
   "cite_by": "apalike",
   "current_citInitial": 1,
   "eqLabelWithNumbers": true,
   "eqNumInitial": 1,
   "hotkeys": {
    "equation": "Ctrl-E",
    "itemize": "Ctrl-I"
   },
   "labels_anchors": false,
   "latex_user_defs": false,
   "report_style_numbering": false,
   "user_envs_cfg": false
  }
 },
 "nbformat": 4,
 "nbformat_minor": 1
}
